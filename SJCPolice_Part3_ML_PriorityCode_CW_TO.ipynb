{
 "cells": [
  {
   "cell_type": "markdown",
   "id": "84e7a91c",
   "metadata": {},
   "source": [
    "## CIS 9: Final Project\n",
    "## Data Analysis of San Jose Police Department Incident Reports (2018-2022) \n",
    "## Written by: Tiffany Overbo and Cherry Withers"
   ]
  },
  {
   "cell_type": "markdown",
   "id": "80f8d395",
   "metadata": {},
   "source": [
    "### Project Summary\n",
    "\n",
    "This project is to analyze incidence reports from police calls for services which are documented by the San Jose City Police Department. The goal is to analyze the trend in types of incidents, address area, time of day, frequency, and if there were any resolutions over 5 years from 2018 - 2023 (3/18/22)*. This will include pre-pandemic, pandemic, and post-pandemic years to see if there is a trend and hopes to answer the following questions:\n",
    "* What are the 10 top incidents being reported each year by frequency? \n",
    "* How did the pandemic affect the incident counts of the following crimes/categories: Assault, Burglary, Disturbing Peace, Drugs/Alcohol, DUI, Fraud, Motor Vehicle Theft, Robbery, Sex Crime, Larceny, Vandalism, Vehicle Breakin/Theft, Others? \n",
    "* Arrest rates for each category mentioned above (per year/per month)?  \n",
    "* Where are most of these incidents occurring (street names)? (NOT FEASIBLE)\n",
    "* What part of the day are the incidents taking place, ie. am, pm, after midnight?\n",
    "* Which months have higher incidents of crimes being reported year after year? \n",
    "\n",
    "\n",
    "### Data Information\n",
    "We will be working with 6 .csv files, each containing the total incidents for each year from 2018-2023(Jan-Mar 18). This dataset shape and header data, sample, and description are listed below. [Source:] (https://data.sanjoseca.gov/dataset/police-calls-for-service)\n",
    "\n"
   ]
  },
  {
   "cell_type": "markdown",
   "id": "fd2f6439",
   "metadata": {},
   "source": [
    "__Import Modules and Load Dataset__"
   ]
  },
  {
   "cell_type": "code",
   "execution_count": null,
   "id": "759d5e5c",
   "metadata": {},
   "outputs": [],
   "source": [
    "# Import modules here\n",
    "import pandas as pd\n",
    "import numpy as np\n",
    "import matplotlib.pyplot as plt\n",
    "import seaborn as sns\n",
    "\n",
    "df = pd.read_csv(\"FinalProject/PoliceCalls_2018_2022.csv\")"
   ]
  },
  {
   "cell_type": "markdown",
   "id": "e1c7d5e8",
   "metadata": {},
   "source": [
    "### Data Analysis"
   ]
  },
  {
   "cell_type": "markdown",
   "id": "b753e8e5",
   "metadata": {},
   "source": [
    "__Predictive Classification Model for Priority Codes__"
   ]
  },
  {
   "cell_type": "code",
   "execution_count": null,
   "id": "04f61b9c",
   "metadata": {},
   "outputs": [],
   "source": [
    "# Import the Classifiers\n",
    "\n",
    "from sklearn.neighbors import KNeighborsClassifier\n",
    "from sklearn.naive_bayes import GaussianNB\n",
    "from sklearn.ensemble import RandomForestClassifier\n",
    "from sklearn.tree import DecisionTreeClassifier\n",
    "from sklearn.model_selection import train_test_split\n",
    "from sklearn.metrics import f1_score\n",
    "from sklearn import metrics"
   ]
  },
  {
   "cell_type": "code",
   "execution_count": 20,
   "id": "ef95e985",
   "metadata": {},
   "outputs": [
    {
     "data": {
      "text/plain": [
       "3    462886\n",
       "2    456131\n",
       "4    192846\n",
       "6    184008\n",
       "5    121178\n",
       "1     43527\n",
       "Name: priority, dtype: int64"
      ]
     },
     "execution_count": 20,
     "metadata": {},
     "output_type": "execute_result"
    }
   ],
   "source": [
    "df['priority'].value_counts()"
   ]
  },
  {
   "cell_type": "code",
   "execution_count": null,
   "id": "eef766b1",
   "metadata": {},
   "outputs": [],
   "source": [
    "# Prepare the data\n",
    "X = df[['type']]\n",
    "y = df['priority']\n",
    "\n",
    "X.loc[:,'type'] = X['type'].astype('category').cat.codes\n",
    "\n",
    "print(X['type'])\n",
    "\n",
    "# look up the original categories from the integer codes\n",
    "#categories = X['type'].cat.categories\n",
    "#for code in X['type_codes']:\n",
    "#    print(f\"Category code {code} corresponds to category '{categories[code]}'\")"
   ]
  },
  {
   "cell_type": "code",
   "execution_count": null,
   "id": "80b78ec5",
   "metadata": {},
   "outputs": [],
   "source": [
    "# Create the training and testing X and y datasets.\n",
    "X_train, X_test, y_train, y_test = train_test_split(X,y,test_size=0.25)\n",
    "print(X_train.shape, X_test.shape, y_train.shape, y_test.shape)"
   ]
  },
  {
   "cell_type": "code",
   "execution_count": 16,
   "id": "416a822a",
   "metadata": {},
   "outputs": [
    {
     "name": "stdout",
     "output_type": "stream",
     "text": [
      "DecisionTreeClassifier() \n",
      "accuracy_score:  0.634\n",
      "f1_score:  0.612\n"
     ]
    }
   ],
   "source": [
    "model = DecisionTreeClassifier()\n",
    "model.fit(X_train, y_train)  \n",
    "y_pred = model.predict(X_test)\n",
    "score_accuracy = metrics.accuracy_score(y_test, y_pred)\n",
    "score_f1 = f1_score(y_test, y_pred, average='weighted')\n",
    "print(model,\"\\naccuracy_score: \", round(score_accuracy, 3))\n",
    "print(\"f1_score: \", round(score_f1,3))"
   ]
  },
  {
   "cell_type": "code",
   "execution_count": 17,
   "id": "deadfa9d",
   "metadata": {},
   "outputs": [
    {
     "data": {
      "text/plain": [
       "array([[ 5020,  1598,  3610,    21,    42,   466],\n",
       "       [ 3543, 97190,  7262,   364,   917,  5029],\n",
       "       [  721, 29454, 56050,  3222,  2126, 24079],\n",
       "       [   30, 18561,  2430, 22283,  2592,  2248],\n",
       "       [  471,  3454,  3163,  7945,  5375,  9902],\n",
       "       [   32,   148,     0,   224,    69, 45503]], dtype=int64)"
      ]
     },
     "execution_count": 17,
     "metadata": {},
     "output_type": "execute_result"
    }
   ],
   "source": [
    "metrics.confusion_matrix(y_test, y_pred)"
   ]
  },
  {
   "cell_type": "markdown",
   "id": "4668671f",
   "metadata": {},
   "source": [
    "The confusion matrix above illustrates our model's shortcomings. For priority 3 & 4, half of the time it predicted incorrectly. It was worst for Priority 5 where most of the time it made innacurate predictions. "
   ]
  },
  {
   "cell_type": "code",
   "execution_count": null,
   "id": "8f6f0ae8",
   "metadata": {},
   "outputs": [],
   "source": []
  }
 ],
 "metadata": {
  "kernelspec": {
   "display_name": "Python 3 (ipykernel)",
   "language": "python",
   "name": "python3"
  },
  "language_info": {
   "codemirror_mode": {
    "name": "ipython",
    "version": 3
   },
   "file_extension": ".py",
   "mimetype": "text/x-python",
   "name": "python",
   "nbconvert_exporter": "python",
   "pygments_lexer": "ipython3",
   "version": "3.9.7"
  }
 },
 "nbformat": 4,
 "nbformat_minor": 5
}
