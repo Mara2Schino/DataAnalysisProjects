{
 "cells": [
  {
   "cell_type": "markdown",
   "id": "84e7a91c",
   "metadata": {},
   "source": [
    "## CIS 9: Final Project\n",
    "## Data Analysis of San Jose Police Department Incident Reports (2018-2022): Part 1\n",
    "## Written by: Tiffany Overbo and Cherry Withers"
   ]
  },
  {
   "cell_type": "markdown",
   "id": "1f2db49e",
   "metadata": {},
   "source": [
    "### Project Summary\n",
    "This notebook is one of two notebooks for this project. There was a necessity to divide the notebooks into two because of our \n",
    "very large dataset (~4M rows). The dataset made for very slow progress. This notebook cleans the data and will be used for our other notebook on data analysis. \n",
    "\n",
    "This project is to analyze incidence reports from police calls for services which are documented by the San Jose City Police Department. The goal is to analyze the trend in types of incidents, address area, time of day, frequency, and if there were any resolutions over 5 years from 2018 - 2022. This will include pre-pandemic, pandemic, and post-pandemic years to see if there is a trend and hopes to answer the following questions:\n",
    "* What are the 10 top incidents being reported each year by frequency? \n",
    "* How did the pandemic affect the incident counts of the following crimes/categories: Assault, Burglary, Disturbing Peace, Drugs/Alcohol, DUI, Fraud, Motor Vehicle Theft, Robbery, Sex Crime, Larceny, Vandalism, Vehicle Breakin/Theft, Others? \n",
    "* Arrest rates for each category mentioned above (per year/per month)?  \n",
    "* Where are most of these incidents occurring (street names)?\n",
    "* What part of the day are the incidents taking place, ie. am, pm, after midnight?\n",
    "* Which months have higher incidents of crimes being reported year after year? \n",
    "* Trend analysis of each major category from 2018-2022.  \n",
    "\n",
    "*Note: 2023 data has only 01-01-23 thru 03-18-23 and is an incomplete year. Therefore, we will not include that in our analysis.\n",
    "\n",
    "### Data Information\n",
    "We will be loading 5 .csv files, each containing the total incidents for each year from 2018-2022.\n",
    "[Source:] (https://data.sanjoseca.gov/dataset/police-calls-for-service)\n",
    "\n",
    "This header name and description are the following: \n",
    "1. CDTS: Unique ID\n",
    "2. EID\tUnique ID\n",
    "3. START_DATE\tStart Date\n",
    "4. CALL_NUMBER\tUnique Call ID (potentially different callers or different time calling back for the same instance)\n",
    "5. PRIORITY\tPriority of the incident\n",
    "6. REPORT_DATE\tDate of when the incident is reported\n",
    "7. OFFENSE_DATE\tDate of when the offense happened (same date as Report Date)\n",
    "8. OFFENSE_TIME\tTime of when the offense happened\n",
    "9. CALLTYPE_CODE\tNumeric equivalence of Call Type\n",
    "10. CALL_TYPE\tType of incident (186 unique types queried, possibly more)\n",
    "11. FINAL_DISPO_CODE\tFinal Disposition Code\n",
    "12. FINAL_DISPO\tFinal Disposition\n",
    "13. COMMON_PLACE_NAME\tCommon Place Name\n",
    "14. ADDRESS\tAddress\n",
    "15. CITY\tCity\n",
    "16. STATE\tState\n"
   ]
  },
  {
   "cell_type": "markdown",
   "id": "18a10b54",
   "metadata": {},
   "source": [
    "### Data Cleaning"
   ]
  },
  {
   "cell_type": "markdown",
   "id": "e59595c5",
   "metadata": {},
   "source": [
    "__1. Importing Modules and Initial Look of Pre-processed Data__"
   ]
  },
  {
   "cell_type": "code",
   "execution_count": 1,
   "id": "74aaa920",
   "metadata": {},
   "outputs": [],
   "source": [
    "# Import modules here:\n",
    "import pandas as pd\n",
    "import numpy as np\n",
    "import matplotlib.pyplot as plt\n",
    "import seaborn as sns\n",
    "import time"
   ]
  },
  {
   "cell_type": "code",
   "execution_count": 2,
   "id": "e45a21bf",
   "metadata": {},
   "outputs": [
    {
     "name": "stdout",
     "output_type": "stream",
     "text": [
      "2018: Row count: 322371 and Column count: 16\n",
      "2019: Row count: 322628 and Column count: 16\n",
      "2020: Row count: 297463 and Column count: 16\n",
      "2021: Row count: 1375897 and Column count: 16\n",
      "2022: Row count: 1945529 and Column count: 16\n",
      "All Years: Row count: 4263888 and Column count: 16\n",
      "Time: 14.938721418380737\n"
     ]
    }
   ],
   "source": [
    "# Read in all our files and assemble them into one dataframe\n",
    "start = time.time()\n",
    "\n",
    "files = [\"FinalProject/policecalls2018.csv\", \n",
    "         \"FinalProject/policecalls2019.csv\", \n",
    "         \"FinalProject/policecalls2020.csv\", \n",
    "         \"FinalProject/policecalls2021.csv\", \n",
    "         \"FinalProject/policecalls2022.csv\"]\n",
    "\n",
    "df_og = pd.DataFrame()\n",
    "\n",
    "# extract the year names form of each file name and print row/column count \n",
    "for file in files:\n",
    "    df = pd.read_csv(file)\n",
    "    print(f\"{file[-8:-4]}: Row count: {df.shape[0]} and Column count: {df.shape[1]}\")\n",
    "    df_og = pd.concat([df_og, df], ignore_index=True)\n",
    "\n",
    "print(\"All Years: Row count:\", df_og.shape[0], \"and Column count:\", df_og.shape[1])\n",
    "\n",
    "end = time.time()\n",
    "print(\"Time:\", end-start)\n",
    "# Time = ~14-20 seconds on my desktop. Time will vary on different machine and other factors."
   ]
  },
  {
   "cell_type": "code",
   "execution_count": 3,
   "id": "4480f71e",
   "metadata": {},
   "outputs": [
    {
     "name": "stdout",
     "output_type": "stream",
     "text": [
      "<class 'pandas.core.frame.DataFrame'>\n",
      "RangeIndex: 4263888 entries, 0 to 4263887\n",
      "Data columns (total 16 columns):\n",
      " #   Column             Dtype \n",
      "---  ------             ----- \n",
      " 0   CDTS               object\n",
      " 1   EID                int64 \n",
      " 2   START_DATE         object\n",
      " 3   CALL_NUMBER        object\n",
      " 4   PRIORITY           int64 \n",
      " 5   REPORT_DATE        object\n",
      " 6   OFFENSE_DATE       object\n",
      " 7   OFFENSE_TIME       object\n",
      " 8   CALLTYPE_CODE      object\n",
      " 9   CALL_TYPE          object\n",
      " 10  FINAL_DISPO_CODE   object\n",
      " 11  FINAL_DISPO        object\n",
      " 12  COMMON_PLACE_NAME  object\n",
      " 13  ADDRESS            object\n",
      " 14  CITY               object\n",
      " 15  STATE              object\n",
      "dtypes: int64(2), object(14)\n",
      "memory usage: 520.5+ MB\n"
     ]
    }
   ],
   "source": [
    "# Looking at header column names and datatype:\n",
    "df_og.info()"
   ]
  },
  {
   "cell_type": "code",
   "execution_count": 4,
   "id": "868eb367",
   "metadata": {},
   "outputs": [
    {
     "data": {
      "text/html": [
       "<div>\n",
       "<style scoped>\n",
       "    .dataframe tbody tr th:only-of-type {\n",
       "        vertical-align: middle;\n",
       "    }\n",
       "\n",
       "    .dataframe tbody tr th {\n",
       "        vertical-align: top;\n",
       "    }\n",
       "\n",
       "    .dataframe thead th {\n",
       "        text-align: right;\n",
       "    }\n",
       "</style>\n",
       "<table border=\"1\" class=\"dataframe\">\n",
       "  <thead>\n",
       "    <tr style=\"text-align: right;\">\n",
       "      <th></th>\n",
       "      <th>CDTS</th>\n",
       "      <th>EID</th>\n",
       "      <th>START_DATE</th>\n",
       "      <th>CALL_NUMBER</th>\n",
       "      <th>PRIORITY</th>\n",
       "      <th>REPORT_DATE</th>\n",
       "      <th>OFFENSE_DATE</th>\n",
       "      <th>OFFENSE_TIME</th>\n",
       "      <th>CALLTYPE_CODE</th>\n",
       "      <th>CALL_TYPE</th>\n",
       "      <th>FINAL_DISPO_CODE</th>\n",
       "      <th>FINAL_DISPO</th>\n",
       "      <th>COMMON_PLACE_NAME</th>\n",
       "      <th>ADDRESS</th>\n",
       "      <th>CITY</th>\n",
       "      <th>STATE</th>\n",
       "    </tr>\n",
       "  </thead>\n",
       "  <tbody>\n",
       "    <tr>\n",
       "      <th>0</th>\n",
       "      <td>20180101000426PS</td>\n",
       "      <td>7000038</td>\n",
       "      <td>14-MAY-21</td>\n",
       "      <td>P180010001</td>\n",
       "      <td>2</td>\n",
       "      <td>2018-01-01</td>\n",
       "      <td>2018-01-01</td>\n",
       "      <td>00:00:02</td>\n",
       "      <td>FDAID</td>\n",
       "      <td>FIRE DEPARTMENT REQUEST FOR PD</td>\n",
       "      <td>N</td>\n",
       "      <td>No report required; dispatch record only</td>\n",
       "      <td>STATION 2</td>\n",
       "      <td>[2900]-[3000] ALUM ROCK AV</td>\n",
       "      <td>San Jose</td>\n",
       "      <td>CA</td>\n",
       "    </tr>\n",
       "    <tr>\n",
       "      <th>1</th>\n",
       "      <td>20180101000120PS</td>\n",
       "      <td>7000040</td>\n",
       "      <td>14-MAY-21</td>\n",
       "      <td>P180010003</td>\n",
       "      <td>3</td>\n",
       "      <td>2018-01-01</td>\n",
       "      <td>2018-01-01</td>\n",
       "      <td>00:00:15</td>\n",
       "      <td>1033A</td>\n",
       "      <td>ALARM, AUDIBLE</td>\n",
       "      <td>NR</td>\n",
       "      <td>No Response</td>\n",
       "      <td>NaN</td>\n",
       "      <td>[4700]-[4800] CALENDULA CT</td>\n",
       "      <td>San Jose</td>\n",
       "      <td>CA</td>\n",
       "    </tr>\n",
       "    <tr>\n",
       "      <th>2</th>\n",
       "      <td>20180101003329PS</td>\n",
       "      <td>7000041</td>\n",
       "      <td>14-MAY-21</td>\n",
       "      <td>P180010004</td>\n",
       "      <td>4</td>\n",
       "      <td>2018-01-01</td>\n",
       "      <td>2018-01-01</td>\n",
       "      <td>00:00:32</td>\n",
       "      <td>415M</td>\n",
       "      <td>DISTURBANCE, MUSIC</td>\n",
       "      <td>CAN</td>\n",
       "      <td>Canceled</td>\n",
       "      <td>NaN</td>\n",
       "      <td>[3100]-[3200] WILLIAMSBURG DR</td>\n",
       "      <td>San Jose</td>\n",
       "      <td>CA</td>\n",
       "    </tr>\n",
       "    <tr>\n",
       "      <th>3</th>\n",
       "      <td>20180101000358PS</td>\n",
       "      <td>7000043</td>\n",
       "      <td>14-MAY-21</td>\n",
       "      <td>P180010005</td>\n",
       "      <td>4</td>\n",
       "      <td>2018-01-01</td>\n",
       "      <td>2018-01-01</td>\n",
       "      <td>00:01:41</td>\n",
       "      <td>415FC</td>\n",
       "      <td>DISTURBANCE, FIRECRACKERS</td>\n",
       "      <td>CAN</td>\n",
       "      <td>Canceled</td>\n",
       "      <td>NaN</td>\n",
       "      <td>[1300]-[1400] BOURET DR</td>\n",
       "      <td>San Jose</td>\n",
       "      <td>CA</td>\n",
       "    </tr>\n",
       "    <tr>\n",
       "      <th>4</th>\n",
       "      <td>20180101000535PS</td>\n",
       "      <td>7000044</td>\n",
       "      <td>14-MAY-21</td>\n",
       "      <td>P180010006</td>\n",
       "      <td>4</td>\n",
       "      <td>2018-01-01</td>\n",
       "      <td>2018-01-01</td>\n",
       "      <td>00:01:53</td>\n",
       "      <td>415M</td>\n",
       "      <td>DISTURBANCE, MUSIC</td>\n",
       "      <td>CAN</td>\n",
       "      <td>Canceled</td>\n",
       "      <td>NaN</td>\n",
       "      <td>[400]-[500] WASHINGTON ST</td>\n",
       "      <td>San Jose</td>\n",
       "      <td>CA</td>\n",
       "    </tr>\n",
       "  </tbody>\n",
       "</table>\n",
       "</div>"
      ],
      "text/plain": [
       "               CDTS      EID START_DATE CALL_NUMBER  PRIORITY REPORT_DATE  \\\n",
       "0  20180101000426PS  7000038  14-MAY-21  P180010001         2  2018-01-01   \n",
       "1  20180101000120PS  7000040  14-MAY-21  P180010003         3  2018-01-01   \n",
       "2  20180101003329PS  7000041  14-MAY-21  P180010004         4  2018-01-01   \n",
       "3  20180101000358PS  7000043  14-MAY-21  P180010005         4  2018-01-01   \n",
       "4  20180101000535PS  7000044  14-MAY-21  P180010006         4  2018-01-01   \n",
       "\n",
       "  OFFENSE_DATE OFFENSE_TIME CALLTYPE_CODE                       CALL_TYPE  \\\n",
       "0   2018-01-01     00:00:02         FDAID  FIRE DEPARTMENT REQUEST FOR PD   \n",
       "1   2018-01-01     00:00:15         1033A                  ALARM, AUDIBLE   \n",
       "2   2018-01-01     00:00:32          415M              DISTURBANCE, MUSIC   \n",
       "3   2018-01-01     00:01:41         415FC       DISTURBANCE, FIRECRACKERS   \n",
       "4   2018-01-01     00:01:53          415M              DISTURBANCE, MUSIC   \n",
       "\n",
       "  FINAL_DISPO_CODE                               FINAL_DISPO  \\\n",
       "0                N  No report required; dispatch record only   \n",
       "1               NR                               No Response   \n",
       "2              CAN                                  Canceled   \n",
       "3              CAN                                  Canceled   \n",
       "4              CAN                                  Canceled   \n",
       "\n",
       "  COMMON_PLACE_NAME                        ADDRESS      CITY STATE  \n",
       "0         STATION 2     [2900]-[3000] ALUM ROCK AV  San Jose    CA  \n",
       "1               NaN     [4700]-[4800] CALENDULA CT  San Jose    CA  \n",
       "2               NaN  [3100]-[3200] WILLIAMSBURG DR  San Jose    CA  \n",
       "3               NaN        [1300]-[1400] BOURET DR  San Jose    CA  \n",
       "4               NaN      [400]-[500] WASHINGTON ST  San Jose    CA  "
      ]
     },
     "execution_count": 4,
     "metadata": {},
     "output_type": "execute_result"
    }
   ],
   "source": [
    "# Sample of the data:\n",
    "df_og.head(5)"
   ]
  },
  {
   "cell_type": "markdown",
   "id": "e098ce53",
   "metadata": {},
   "source": [
    "__2. Finding Duplicates and NaNs and dropping them__\n",
    "<br> Review each column to see if there are duplicates, have any NaNs and understand if they add value."
   ]
  },
  {
   "cell_type": "markdown",
   "id": "16bd85fa",
   "metadata": {},
   "source": [
    "__2.1. Finding which columns have duplicates or add values__\n",
    "<br> Use unique and counts to  understand the dataset."
   ]
  },
  {
   "cell_type": "code",
   "execution_count": 5,
   "id": "009d1414",
   "metadata": {
    "scrolled": true
   },
   "outputs": [
    {
     "name": "stdout",
     "output_type": "stream",
     "text": [
      "CDTS unique count is 1529044\n",
      "EID unique count is 1505300\n",
      "START_DATE unique count is 560\n",
      "CALL_NUMBER unique count is 1507152\n",
      "PRIORITY unique count is 6\n",
      "REPORT_DATE unique count is 1820\n",
      "OFFENSE_DATE unique count is 1820\n",
      "OFFENSE_TIME unique count is 86381\n",
      "CALLTYPE_CODE unique count is 223\n",
      "CALL_TYPE unique count is 237\n",
      "FINAL_DISPO_CODE unique count is 22\n",
      "FINAL_DISPO unique count is 25\n",
      "COMMON_PLACE_NAME unique count is 6239\n",
      "ADDRESS unique count is 67752\n",
      "CITY unique count is 1\n",
      "STATE unique count is 1\n"
     ]
    }
   ],
   "source": [
    "# Find the frequency of each column to assess if there are duplicates:\n",
    "header_name = df_og.columns\n",
    "for header in header_name:\n",
    "    unique_count = len(df_og[header].value_counts())\n",
    "    print(header, \"unique count is\", unique_count)"
   ]
  },
  {
   "cell_type": "raw",
   "id": "99c23773",
   "metadata": {},
   "source": [
    "Since CDTS, EID, and CALL_NUMBER have high unique count and low duplicates, more investigation is needed. We emailed OpenData at opendata@sanjoseca.gov to help understand what these columns are. Arti Tangri, the Equity Data Lead for the City of San Jose wrote back explaining that the CDTS, EID and Call_Number are all system IDs that are generated from their internal systems. After reviewing these columns, we decide to use EID as the unique identifiers for a particular instance or call."
   ]
  },
  {
   "cell_type": "markdown",
   "id": "fad578bb",
   "metadata": {},
   "source": [
    "__2.2. Dropping Duplicate Rows__\n",
    "<br>The EID column is comprised of the unique incident ID. However, multiple rows of the same EID occurs for several reasons. One being that multiple people have called about the same incident, or updates about the incident are logged with the same EID. Before we drop EID, we'd like to grab the last instance of (based on the last reported date, which is the START_DATE) so we know if there was a resolution or not with the incident."
   ]
  },
  {
   "cell_type": "code",
   "execution_count": 6,
   "id": "2864b7d5",
   "metadata": {},
   "outputs": [
    {
     "name": "stdout",
     "output_type": "stream",
     "text": [
      "Total data length:  1505300\n"
     ]
    }
   ],
   "source": [
    "# Dropping duplicates of EID but grabbing the latest STATE_DATE:\n",
    "# Sorting for START_DATE descending order:\n",
    "df_og = df_og.sort_values(by=[\"EID\", \"START_DATE\"], ascending=[True, False])\n",
    "# Only keeping the first row of the descending sort:\n",
    "df = df_og.drop_duplicates(subset=\"EID\", keep=\"first\")\n",
    "\n",
    "# Checking df size post removing duplicates:\n",
    "print(\"Total data length: \",len(df))"
   ]
  },
  {
   "cell_type": "code",
   "execution_count": 7,
   "id": "299d4fe8",
   "metadata": {},
   "outputs": [
    {
     "name": "stdout",
     "output_type": "stream",
     "text": [
      "CDTS unique count is 1497431.\n",
      "EID unique count is 1505300.\n",
      "START_DATE unique count is 424.\n",
      "CALL_NUMBER unique count is 1505300.\n",
      "PRIORITY unique count is 6.\n",
      "REPORT_DATE unique count is 1820.\n",
      "OFFENSE_DATE unique count is 1820.\n",
      "OFFENSE_TIME unique count is 86381.\n",
      "CALLTYPE_CODE unique count is 223.\n",
      "CALL_TYPE unique count is 237.\n",
      "FINAL_DISPO_CODE unique count is 22.\n",
      "FINAL_DISPO unique count is 25.\n",
      "COMMON_PLACE_NAME unique count is 6239.\n",
      "ADDRESS unique count is 67752.\n",
      "CITY unique count is 1.\n",
      "STATE unique count is 1.\n"
     ]
    }
   ],
   "source": [
    "# Check for column counts after removing duplicates from EID + START_DATE:\n",
    "header_name = df.columns\n",
    "for header in header_name:\n",
    "    print(header, \"unique count is\", str(len(df[header].value_counts()))+\".\")"
   ]
  },
  {
   "cell_type": "code",
   "execution_count": 8,
   "id": "8c2c148e",
   "metadata": {},
   "outputs": [
    {
     "data": {
      "text/plain": [
       "CDTS                       0\n",
       "EID                        0\n",
       "START_DATE                 0\n",
       "CALL_NUMBER                0\n",
       "PRIORITY                   0\n",
       "REPORT_DATE                0\n",
       "OFFENSE_DATE               0\n",
       "OFFENSE_TIME               0\n",
       "CALLTYPE_CODE              0\n",
       "CALL_TYPE                 29\n",
       "FINAL_DISPO_CODE           0\n",
       "FINAL_DISPO                0\n",
       "COMMON_PLACE_NAME    1197782\n",
       "ADDRESS                44695\n",
       "CITY                       0\n",
       "STATE                      0\n",
       "dtype: int64"
      ]
     },
     "execution_count": 8,
     "metadata": {},
     "output_type": "execute_result"
    }
   ],
   "source": [
    "# Check for NaNs:\n",
    "df.isna().sum()"
   ]
  },
  {
   "cell_type": "markdown",
   "id": "5930c186",
   "metadata": {},
   "source": [
    "__2.3. Dropping Other Columns__ \n",
    "<br> We will be dropping these columns for the following reasons:\n",
    "* CALLTYPE_CODE because it is a duplicate of CALL_TYPE.\n",
    "* CALL_NUMBER because it is a phone call id number and it's no value to the analysis\n",
    "* CDTS because it's an internal system id and it has no value to the analysis\n",
    "* CITY because there is one value San Jose\n",
    "* COMMON_PLACE_NAME because there are 1.2M NaNs which is 79% of the dataset. We will use the ADDRESS column for location of incident\n",
    "* EID because it is a unique id and has no value to the analysis\n",
    "* FINAL_DISPO_CODE because it is a variation of FINAL_DISPO. We will use FINAL_DISPO.\n",
    "* REPORT_DATE because it is the same as OFFENSE_DATE\n",
    "* STATE because there is one value CA\n",
    "* START_DATE because it is the date of a call and instances of the calls. We will be using OFFENSE_DATE as the incident date."
   ]
  },
  {
   "cell_type": "code",
   "execution_count": 9,
   "id": "355c2c13",
   "metadata": {},
   "outputs": [],
   "source": [
    "# Dropping unnecessary columns:\n",
    "drop_list = ['CALLTYPE_CODE','CALL_NUMBER','CDTS','CITY','COMMON_PLACE_NAME','EID',\\\n",
    "             'FINAL_DISPO_CODE','REPORT_DATE','STATE','START_DATE']\n",
    "for i in drop_list:\n",
    "    df = df.drop(columns=[i])"
   ]
  },
  {
   "cell_type": "code",
   "execution_count": 10,
   "id": "49ae38e2",
   "metadata": {},
   "outputs": [
    {
     "name": "stdout",
     "output_type": "stream",
     "text": [
      "['PRIORITY' 'OFFENSE_DATE' 'OFFENSE_TIME' 'CALL_TYPE' 'FINAL_DISPO'\n",
      " 'ADDRESS']\n"
     ]
    },
    {
     "data": {
      "text/plain": [
       "(1505300, 6)"
      ]
     },
     "execution_count": 10,
     "metadata": {},
     "output_type": "execute_result"
    }
   ],
   "source": [
    "# Chekcing the remaining column names:\n",
    "print(df.columns.values)\n",
    "df.shape"
   ]
  },
  {
   "cell_type": "markdown",
   "id": "8d0a8485",
   "metadata": {},
   "source": [
    "__3. Deletion of NAs and Changing Column names to lowercase__"
   ]
  },
  {
   "cell_type": "code",
   "execution_count": 11,
   "id": "01b554e5",
   "metadata": {},
   "outputs": [
    {
     "data": {
      "text/plain": [
       "PRIORITY        0\n",
       "OFFENSE_DATE    0\n",
       "OFFENSE_TIME    0\n",
       "CALL_TYPE       0\n",
       "FINAL_DISPO     0\n",
       "ADDRESS         0\n",
       "dtype: int64"
      ]
     },
     "execution_count": 11,
     "metadata": {},
     "output_type": "execute_result"
    }
   ],
   "source": [
    "# Delete rows that are NaNs:\n",
    "df = df.dropna()\n",
    "# Check if there are any more NaNs left:\n",
    "df.isna().sum()"
   ]
  },
  {
   "cell_type": "code",
   "execution_count": 12,
   "id": "a54a951c",
   "metadata": {},
   "outputs": [
    {
     "data": {
      "text/plain": [
       "Index(['priority', 'offense_date', 'offense_time', 'call_type', 'final_dispo',\n",
       "       'address'],\n",
       "      dtype='object')"
      ]
     },
     "execution_count": 12,
     "metadata": {},
     "output_type": "execute_result"
    }
   ],
   "source": [
    "# Changing each headers to lowercase:\n",
    "df.columns = df.columns.str.lower()\n",
    "# First look of processed-cleaner dataframe\n",
    "df.columns"
   ]
  },
  {
   "cell_type": "markdown",
   "id": "ff079ad6",
   "metadata": {},
   "source": [
    "### Addition of Other Columns for Data Analysis"
   ]
  },
  {
   "cell_type": "markdown",
   "id": "201401fd",
   "metadata": {},
   "source": [
    "__1. Separating offense_date column to columns month, day, year__\n",
    "<br> We decide to separate offense_date into 3 periods: year, month, and month_year. This is to help with year over year, month over month, or consecutive month year analysis.<br>"
   ]
  },
  {
   "cell_type": "code",
   "execution_count": 13,
   "id": "58bbd00d",
   "metadata": {},
   "outputs": [],
   "source": [
    "# Separate offense_date to month, day, year\n",
    "# Setting up a year column for yearly analysis:\n",
    "df['year'] = pd.DatetimeIndex(df['offense_date']).year\n",
    "# Setting up a monthly column for month analysis:\n",
    "df['month'] = pd.DatetimeIndex(df['offense_date']).month\n",
    "# Setting up month_year column for month and year analysis:\n",
    "df['month_year'] = pd.to_datetime(df['offense_date']).dt.to_period('M')"
   ]
  },
  {
   "cell_type": "markdown",
   "id": "b57e1a1d",
   "metadata": {},
   "source": [
    "__2. Adding a time_group column__\n",
    "<br> We were going to map hours of the day that incident occurs into 4 different categories based on when it happened: \n",
    "early morning (midnight to 6 AM), morning (6 AM to 12 PM), afternoon (12 PM to 6 PM), and evening (6 PM to midnight). We would like to know which part of the day most of these incidents occur. However, after reviewing the line graphs with the 4 different categories, the line graphs were very rigid and spiked up and down steeply for every 6 hour increments. However, using the offense_time, the line graph showed a smoother line with smaller periods incremented being plotted. Therefore, we have not included our codes of the 4 different categories. We will only analyze time of day with the offense_time which better reflects the actual time of the incident.<br>"
   ]
  },
  {
   "cell_type": "markdown",
   "id": "d227d194",
   "metadata": {},
   "source": [
    "__3. Grouping of call_type column into a new type column__\n",
    "<br> There are 237 call_types and some of them are duplicates with spaces, partial spelling, or similar types of incidents that can be grouped under a broader category. Therefore we created a new column named type to group alike call_types. We decide to keep call_type becuase we may do more analysis of the specific call_type. For instance, we may want to analyze what specific types are under \"suspicious activities\". There are suspicious circumstances, suspicious female, suspicious package, suspicious person, prowler, and vagrant. These details may help explain future analysis so therefore we decide to keep this in our dataset.<br>"
   ]
  },
  {
   "cell_type": "code",
   "execution_count": 14,
   "id": "6503fc48",
   "metadata": {
    "scrolled": true
   },
   "outputs": [
    {
     "data": {
      "text/plain": [
       "call_type\n",
       "1091AB          - VICIOUS ANIM                           13\n",
       "1091AB          - VICIOUS ANIMAL (COMBINED EVENT)       248\n",
       "ABANDONED VEHICLE                                      6975\n",
       "ALARM                                                  3030\n",
       "ALARM, AUDIBLE                                       103445\n",
       "                                                      ...  \n",
       "W&I UNCONTROLLABLE JUVENILE                              32\n",
       "W&I-UNDER JURIS OF JUV COURT                             41\n",
       "WELFARE CHECK                                        103984\n",
       "WELFARE CHECK (COMBINED EVENT)                        13372\n",
       "X-RAY MACHINE ALARM/AIRPORT                               1\n",
       "Name: final_dispo, Length: 237, dtype: int64"
      ]
     },
     "execution_count": 14,
     "metadata": {},
     "output_type": "execute_result"
    }
   ],
   "source": [
    "# List the call_type and it's count:\n",
    "df.groupby(\"call_type\").final_dispo.count()"
   ]
  },
  {
   "cell_type": "code",
   "execution_count": 15,
   "id": "2846384d",
   "metadata": {},
   "outputs": [
    {
     "data": {
      "text/plain": [
       "(1460576, 10)"
      ]
     },
     "metadata": {},
     "output_type": "display_data"
    },
    {
     "data": {
      "text/html": [
       "<div>\n",
       "<style scoped>\n",
       "    .dataframe tbody tr th:only-of-type {\n",
       "        vertical-align: middle;\n",
       "    }\n",
       "\n",
       "    .dataframe tbody tr th {\n",
       "        vertical-align: top;\n",
       "    }\n",
       "\n",
       "    .dataframe thead th {\n",
       "        text-align: right;\n",
       "    }\n",
       "</style>\n",
       "<table border=\"1\" class=\"dataframe\">\n",
       "  <thead>\n",
       "    <tr style=\"text-align: right;\">\n",
       "      <th></th>\n",
       "      <th>priority</th>\n",
       "      <th>offense_date</th>\n",
       "      <th>offense_time</th>\n",
       "      <th>call_type</th>\n",
       "      <th>final_dispo</th>\n",
       "      <th>address</th>\n",
       "      <th>year</th>\n",
       "      <th>month</th>\n",
       "      <th>month_year</th>\n",
       "      <th>type</th>\n",
       "    </tr>\n",
       "  </thead>\n",
       "  <tbody>\n",
       "    <tr>\n",
       "      <th>0</th>\n",
       "      <td>2</td>\n",
       "      <td>2018-01-01</td>\n",
       "      <td>00:00:02</td>\n",
       "      <td>FIRE DEPARTMENT REQUEST FOR PD</td>\n",
       "      <td>No report required; dispatch record only</td>\n",
       "      <td>[2900]-[3000] ALUM ROCK AV</td>\n",
       "      <td>2018</td>\n",
       "      <td>1</td>\n",
       "      <td>2018-01</td>\n",
       "      <td>FIRE DEPARTMENT REQUEST FOR PD</td>\n",
       "    </tr>\n",
       "    <tr>\n",
       "      <th>1</th>\n",
       "      <td>3</td>\n",
       "      <td>2018-01-01</td>\n",
       "      <td>00:00:15</td>\n",
       "      <td>ALARM, AUDIBLE</td>\n",
       "      <td>No Response</td>\n",
       "      <td>[4700]-[4800] CALENDULA CT</td>\n",
       "      <td>2018</td>\n",
       "      <td>1</td>\n",
       "      <td>2018-01</td>\n",
       "      <td>ALARM, AUDIBLE</td>\n",
       "    </tr>\n",
       "    <tr>\n",
       "      <th>2</th>\n",
       "      <td>4</td>\n",
       "      <td>2018-01-01</td>\n",
       "      <td>00:00:32</td>\n",
       "      <td>DISTURBANCE, MUSIC</td>\n",
       "      <td>Canceled</td>\n",
       "      <td>[3100]-[3200] WILLIAMSBURG DR</td>\n",
       "      <td>2018</td>\n",
       "      <td>1</td>\n",
       "      <td>2018-01</td>\n",
       "      <td>DISTURBANCE, MUSIC</td>\n",
       "    </tr>\n",
       "  </tbody>\n",
       "</table>\n",
       "</div>"
      ],
      "text/plain": [
       "   priority offense_date offense_time                       call_type  \\\n",
       "0         2   2018-01-01     00:00:02  FIRE DEPARTMENT REQUEST FOR PD   \n",
       "1         3   2018-01-01     00:00:15                  ALARM, AUDIBLE   \n",
       "2         4   2018-01-01     00:00:32              DISTURBANCE, MUSIC   \n",
       "\n",
       "                                final_dispo                        address  \\\n",
       "0  No report required; dispatch record only     [2900]-[3000] ALUM ROCK AV   \n",
       "1                               No Response     [4700]-[4800] CALENDULA CT   \n",
       "2                                  Canceled  [3100]-[3200] WILLIAMSBURG DR   \n",
       "\n",
       "   year  month month_year                            type  \n",
       "0  2018      1    2018-01  FIRE DEPARTMENT REQUEST FOR PD  \n",
       "1  2018      1    2018-01                  ALARM, AUDIBLE  \n",
       "2  2018      1    2018-01              DISTURBANCE, MUSIC  "
      ]
     },
     "execution_count": 15,
     "metadata": {},
     "output_type": "execute_result"
    }
   ],
   "source": [
    "# Adding a new column named type column that will group alike call_type:\n",
    "df['type'] = df['call_type']\n",
    "display(df.shape)\n",
    "df.head(3)"
   ]
  },
  {
   "cell_type": "code",
   "execution_count": 17,
   "id": "4ede4fb5",
   "metadata": {},
   "outputs": [
    {
     "name": "stdout",
     "output_type": "stream",
     "text": [
      "Time: 68.08530569076538\n"
     ]
    }
   ],
   "source": [
    "start = time.time()\n",
    "# Using regex to replace the old call_type name in the new column type:\n",
    "df.type = df.type.str.replace(r'.*WEAPON.*|FIREARM.*|SHOOTING.*|.*SHOT.*|.*BOMB.*', 'Weapon', regex=True)\n",
    "df.type = df.type.str.replace(r'.*DUI.*', 'DUI', regex=True)\n",
    "df.type = df.type.str.replace(r'CARSTOP.*|UNLICENSED DRIVER|.*DRIVING.*|EXPIRED REGISTRATION|.*SPEEDING.*|.*TRAFFIC.*|.*HIT AND RUN.*|.*SPEED CONTEST.*|.*VEHICLE ACCIDENT.*|.*VEHICLE STOP.*|.*SUSPICIOUS VEHICLE.*|THROWING SUBSTANCES AT VEHICLE', 'Driver Or Traffic', regex=True) \n",
    "df.type = df.type.str.replace(r'RECOVERED STOLEN VEHICLE', 'Recovered Stolen Auto', regex=True)\n",
    "df.type = df.type.str.replace(r'.*VEHICLE.*|CARJACKING.*|ALTERED VIN NUMBER', 'Vehicle', regex=True) \n",
    "df.type = df.type.str.replace(r'.*ALARM.*', 'Alarm', regex=True)\n",
    "df.type = df.type.str.replace(r'.*ANIM.*|.*HORSE.*', 'Animal', regex=True)\n",
    "df.type = df.type.str.replace(r'.*ASSAULT.*|.*HARASS.*', 'Assault', regex=True)\n",
    "df.type = df.type.str.replace(r'.*DISTURBANCE.*', 'Disturbance', regex=True)\n",
    "df.type = df.type.str.replace(r'.*ROBBERY.*', 'Robbery', regex=True) \n",
    "df.type = df.type.str.replace(r'.*THEFT.*', 'Theft', regex=True) \n",
    "df.type = df.type.str.replace(r'.*WELFARE.*', 'Welfare', regex=True)\n",
    "df.type = df.type.str.replace(r'.*NARCOTICS.*|.*CONTROLLED SUB.*|.*MARIJUANA.*|.*ALCOHOL.*|.*DRUNK.*|.*INTOXICATE.*', 'Drugs & Alcohol', regex=True) \n",
    "df.type = df.type.str.replace(r'.*SUSPICIOUS.*|.*PROWLER*|.*VAGRANT*', 'Suspicious Activities', regex=True) \n",
    "df.type = df.type.str.replace(r'.*COMMUNI.*POLICING.*', 'Community Policing', regex=True)\n",
    "df.type = df.type.str.replace(r'.*MISSING.*', 'Missing', regex=True)\n",
    "df.type = df.type.str.replace(r'.*PEDESTRIAN.*', 'Pedestrian', regex=True)\n",
    "df.type = df.type.str.replace(r'.*BATTERY.*', 'Battery', regex=True)\n",
    "df.type = df.type.str.replace(r'.*BAD CHECKS.*|.*BAR CHECK.*|.*DEFRAUD.*|.*EMBEZZLE.*|.*FORGERY.*|HI-TECH CRIMES', 'Fraud', regex=True) \n",
    "df.type = df.type.str.replace(r'.*FIRE .*|.*EXPLOSION.*|.*ARSON.*', 'Fire', regex=True) \n",
    "df.type = df.type.str.replace(r'.*MINOR.*|.*JUV.*|.*TRUANT.*|.*CHILD.*', 'Minor', regex=True) \n",
    "df.type = df.type.str.replace(r'.*MALICIOUS MISCHIEF.*', 'Malicious Mischief', regex=True)\n",
    "df.type = df.type.str.replace(r'.*PARKING.*', 'Parking', regex=True)\n",
    "df.type = df.type.str.replace(r'.*INJURE.*OBSTRUCT.*|.*INJURED PERSON.*|.*PERSON DOWN.*|.*PERSON STABBED.*', 'Injured Person', regex=True) \n",
    "df.type = df.type.str.replace(r'.*BURGLARY.*', 'Burglary', regex=True) \n",
    "df.type = df.type.str.replace(r'.*MENTALLY DISTURBED.*|.*SICK PERSON.*', 'Mentally Disturbed', regex=True) \n",
    "df.type = df.type.str.replace(r'MURDER.*|CORONERS CASE', 'Murder', regex=True) \n",
    "df.type = df.type.str.replace(r'.*DOMESTIC.*', 'Domestic Violence', regex=True) \n",
    "df.type = df.type.str.replace(r'.*EXTORTION.*', 'Extortion', regex=True) \n",
    "df.type = df.type.str.replace(r'.*CALL.*', 'Unknown', regex=True) \n",
    "df.type = df.type.str.replace(r'.*SOLICITING.*|.*MOLEST.*', 'Sex Crime', regex=True) \n",
    "df['type'] = df['type'].str.lower()\n",
    "end = time.time()\n",
    "print(\"Time:\", end-start)"
   ]
  },
  {
   "cell_type": "code",
   "execution_count": 18,
   "id": "feff4e0c",
   "metadata": {},
   "outputs": [],
   "source": [
    "# Converting the types into lower case\n",
    "df['type'] = df['type'].str.lower()"
   ]
  },
  {
   "cell_type": "code",
   "execution_count": 19,
   "id": "d464e731",
   "metadata": {},
   "outputs": [
    {
     "data": {
      "text/plain": [
       "type\n",
       "alarm                            117688\n",
       "animal                             3631\n",
       "assault                            1071\n",
       "battery                           12358\n",
       "breach of aoa                        20\n",
       "                                  ...  \n",
       "unknown                           39907\n",
       "vehicle                           59898\n",
       "violation of protective order      5466\n",
       "weapon                            31054\n",
       "welfare                          117356\n",
       "Name: final_dispo, Length: 62, dtype: int64"
      ]
     },
     "metadata": {},
     "output_type": "display_data"
    }
   ],
   "source": [
    "# Checking the clean type:\n",
    "type_count=df.groupby(\"type\").final_dispo.count()\n",
    "display(type_count)"
   ]
  },
  {
   "cell_type": "code",
   "execution_count": 20,
   "id": "3c99565f",
   "metadata": {},
   "outputs": [
    {
     "data": {
      "text/plain": [
       "type\n",
       "alarm                            117688\n",
       "animal                             3631\n",
       "assault                            1071\n",
       "battery                           12358\n",
       "breach of aoa                        20\n",
       "                                  ...  \n",
       "unknown                           39907\n",
       "vehicle                           59898\n",
       "violation of protective order      5466\n",
       "weapon                            31054\n",
       "welfare                          117356\n",
       "Name: final_dispo, Length: 62, dtype: int64"
      ]
     },
     "metadata": {},
     "output_type": "display_data"
    }
   ],
   "source": [
    "# Converting the call_types into lower case\n",
    "df['call_type'] = df['call_type'].str.lower()\n",
    "call_type_count=df.groupby(\"call_type\").final_dispo.count()\n",
    "display(type_count)"
   ]
  },
  {
   "cell_type": "code",
   "execution_count": 21,
   "id": "f2787068",
   "metadata": {},
   "outputs": [
    {
     "data": {
      "text/plain": [
       "(1460576, 10)"
      ]
     },
     "metadata": {},
     "output_type": "display_data"
    },
    {
     "data": {
      "text/html": [
       "<div>\n",
       "<style scoped>\n",
       "    .dataframe tbody tr th:only-of-type {\n",
       "        vertical-align: middle;\n",
       "    }\n",
       "\n",
       "    .dataframe tbody tr th {\n",
       "        vertical-align: top;\n",
       "    }\n",
       "\n",
       "    .dataframe thead th {\n",
       "        text-align: right;\n",
       "    }\n",
       "</style>\n",
       "<table border=\"1\" class=\"dataframe\">\n",
       "  <thead>\n",
       "    <tr style=\"text-align: right;\">\n",
       "      <th></th>\n",
       "      <th>priority</th>\n",
       "      <th>offense_date</th>\n",
       "      <th>offense_time</th>\n",
       "      <th>call_type</th>\n",
       "      <th>final_dispo</th>\n",
       "      <th>address</th>\n",
       "      <th>year</th>\n",
       "      <th>month</th>\n",
       "      <th>month_year</th>\n",
       "      <th>type</th>\n",
       "    </tr>\n",
       "  </thead>\n",
       "  <tbody>\n",
       "    <tr>\n",
       "      <th>0</th>\n",
       "      <td>2</td>\n",
       "      <td>2018-01-01</td>\n",
       "      <td>00:00:02</td>\n",
       "      <td>fire department request for pd</td>\n",
       "      <td>No report required; dispatch record only</td>\n",
       "      <td>[2900]-[3000] ALUM ROCK AV</td>\n",
       "      <td>2018</td>\n",
       "      <td>1</td>\n",
       "      <td>2018-01</td>\n",
       "      <td>fire</td>\n",
       "    </tr>\n",
       "    <tr>\n",
       "      <th>1</th>\n",
       "      <td>3</td>\n",
       "      <td>2018-01-01</td>\n",
       "      <td>00:00:15</td>\n",
       "      <td>alarm, audible</td>\n",
       "      <td>No Response</td>\n",
       "      <td>[4700]-[4800] CALENDULA CT</td>\n",
       "      <td>2018</td>\n",
       "      <td>1</td>\n",
       "      <td>2018-01</td>\n",
       "      <td>alarm</td>\n",
       "    </tr>\n",
       "    <tr>\n",
       "      <th>2</th>\n",
       "      <td>4</td>\n",
       "      <td>2018-01-01</td>\n",
       "      <td>00:00:32</td>\n",
       "      <td>disturbance, music</td>\n",
       "      <td>Canceled</td>\n",
       "      <td>[3100]-[3200] WILLIAMSBURG DR</td>\n",
       "      <td>2018</td>\n",
       "      <td>1</td>\n",
       "      <td>2018-01</td>\n",
       "      <td>disturbance</td>\n",
       "    </tr>\n",
       "  </tbody>\n",
       "</table>\n",
       "</div>"
      ],
      "text/plain": [
       "   priority offense_date offense_time                       call_type  \\\n",
       "0         2   2018-01-01     00:00:02  fire department request for pd   \n",
       "1         3   2018-01-01     00:00:15                  alarm, audible   \n",
       "2         4   2018-01-01     00:00:32              disturbance, music   \n",
       "\n",
       "                                final_dispo                        address  \\\n",
       "0  No report required; dispatch record only     [2900]-[3000] ALUM ROCK AV   \n",
       "1                               No Response     [4700]-[4800] CALENDULA CT   \n",
       "2                                  Canceled  [3100]-[3200] WILLIAMSBURG DR   \n",
       "\n",
       "   year  month month_year         type  \n",
       "0  2018      1    2018-01         fire  \n",
       "1  2018      1    2018-01        alarm  \n",
       "2  2018      1    2018-01  disturbance  "
      ]
     },
     "execution_count": 21,
     "metadata": {},
     "output_type": "execute_result"
    }
   ],
   "source": [
    "display(df.shape)\n",
    "df.head(3)"
   ]
  },
  {
   "cell_type": "code",
   "execution_count": 22,
   "id": "4d56e43d",
   "metadata": {},
   "outputs": [
    {
     "data": {
      "text/plain": [
       "Index(['priority', 'offense_date', 'offense_time', 'call_type', 'final_dispo',\n",
       "       'address', 'year', 'month', 'month_year', 'type'],\n",
       "      dtype='object')"
      ]
     },
     "execution_count": 22,
     "metadata": {},
     "output_type": "execute_result"
    }
   ],
   "source": [
    "df.columns"
   ]
  },
  {
   "cell_type": "markdown",
   "id": "ee675081",
   "metadata": {},
   "source": [
    "We decided to break up the notebook into 2 notebooks so that we can separate the resources necessary to do the  preliminary data cleaning process vs the data analytics. Since the files are so large, reloading the dataset and  rerunning the cells will be very taxing on some less powerful laptops and time consuming to rerun.  In order for this to be achieved, we will export the clean dataset into 1 file for Notebook 2."
   ]
  },
  {
   "cell_type": "code",
   "execution_count": 23,
   "id": "45f266b4",
   "metadata": {},
   "outputs": [],
   "source": [
    "# Exporting the clean dataset into 1 file for Notebook 2.\n",
    "# df.to_csv(r'C:\\Users\\Overbo\\Desktop\\CIS9 Data Science\\Labs\\Lab Project\\PoliceCalls_2018_2022.csv', index=True)"
   ]
  }
 ],
 "metadata": {
  "kernelspec": {
   "display_name": "Python 3 (ipykernel)",
   "language": "python",
   "name": "python3"
  },
  "language_info": {
   "codemirror_mode": {
    "name": "ipython",
    "version": 3
   },
   "file_extension": ".py",
   "mimetype": "text/x-python",
   "name": "python",
   "nbconvert_exporter": "python",
   "pygments_lexer": "ipython3",
   "version": "3.9.7"
  }
 },
 "nbformat": 4,
 "nbformat_minor": 5
}
